{
 "cells": [
  {
   "cell_type": "markdown",
   "metadata": {
    "colab_type": "text",
    "deletable": true,
    "editable": true,
    "id": "5hIbr52I7Z7U"
   },
   "source": [
    "Deep Learning\n",
    "=============\n",
    "\n",
    "Assignment 1\n",
    "------------\n",
    "\n",
    "The objective of this assignment is to learn about simple data curation practices, and familiarize you with some of the data we'll be reusing later.\n",
    "\n",
    "This notebook uses the [notMNIST](http://yaroslavvb.blogspot.com/2011/09/notmnist-dataset.html) dataset to be used with python experiments. This dataset is designed to look like the classic [MNIST](http://yann.lecun.com/exdb/mnist/) dataset, while looking a little more like real data: it's a harder task, and the data is a lot less 'clean' than MNIST."
   ]
  },
  {
   "cell_type": "code",
   "execution_count": 1,
   "metadata": {
    "cellView": "both",
    "colab": {
     "autoexec": {
      "startup": false,
      "wait_interval": 0
     }
    },
    "colab_type": "code",
    "collapsed": true,
    "deletable": true,
    "editable": true,
    "id": "apJbCsBHl-2A"
   },
   "outputs": [],
   "source": [
    "# These are all the modules we'll be using later. Make sure you can import them\n",
    "# before proceeding further.\n",
    "from __future__ import print_function\n",
    "import matplotlib.pyplot as plt\n",
    "import numpy as np\n",
    "import os\n",
    "import sys\n",
    "import tarfile\n",
    "from IPython.display import display, Image\n",
    "from scipy import ndimage\n",
    "from sklearn.linear_model import LogisticRegression\n",
    "from six.moves.urllib.request import urlretrieve\n",
    "from six.moves import cPickle as pickle\n",
    "\n",
    "# Config the matplotlib backend as plotting inline in IPython\n",
    "%matplotlib inline"
   ]
  },
  {
   "cell_type": "markdown",
   "metadata": {
    "colab_type": "text",
    "deletable": true,
    "editable": true,
    "id": "jNWGtZaXn-5j"
   },
   "source": [
    "First, we'll download the dataset to our local machine. The data consists of characters rendered in a variety of fonts on a 28x28 image. The labels are limited to 'A' through 'J' (10 classes). The training set has about 500k and the testset 19000 labelled examples. Given these sizes, it should be possible to train models quickly on any machine."
   ]
  },
  {
   "cell_type": "code",
   "execution_count": 2,
   "metadata": {
    "cellView": "both",
    "colab": {
     "autoexec": {
      "startup": false,
      "wait_interval": 0
     },
     "output_extras": [
      {
       "item_id": 1
      }
     ]
    },
    "colab_type": "code",
    "collapsed": false,
    "deletable": true,
    "editable": true,
    "executionInfo": {
     "elapsed": 186058,
     "status": "ok",
     "timestamp": 1444485672507,
     "user": {
      "color": "#1FA15D",
      "displayName": "Vincent Vanhoucke",
      "isAnonymous": false,
      "isMe": true,
      "permissionId": "05076109866853157986",
      "photoUrl": "//lh6.googleusercontent.com/-cCJa7dTDcgQ/AAAAAAAAAAI/AAAAAAAACgw/r2EZ_8oYer4/s50-c-k-no/photo.jpg",
      "sessionId": "2a0a5e044bb03b66",
      "userId": "102167687554210253930"
     },
     "user_tz": 420
    },
    "id": "EYRJ4ICW6-da",
    "outputId": "0d0f85df-155f-4a89-8e7e-ee32df36ec8d"
   },
   "outputs": [
    {
     "name": "stdout",
     "output_type": "stream",
     "text": [
      "Attempting to download: notMNIST_large.tar.gz\n",
      "0%....5%....10%....15%....20%....25%....30%....35%....40%....45%....50%....55%....60%....65%....70%....75%....80%....85%....90%....95%....100%\n",
      "Download Complete!\n",
      "Found and verified /home/panas/Desktop/udacityData/notMNIST_large.tar.gz\n",
      "Attempting to download: notMNIST_small.tar.gz\n",
      "0%....5%....10%....15%....20%....25%....30%....35%....40%....45%....50%....55%....60%....65%....70%....75%....80%....85%....90%....95%....100%\n",
      "Download Complete!\n",
      "Found and verified /home/panas/Desktop/udacityData/notMNIST_small.tar.gz\n"
     ]
    }
   ],
   "source": [
    "url = 'http://commondatastorage.googleapis.com/books1000/'\n",
    "last_percent_reported = None\n",
    "data_root = '/home/panas/Desktop/udacityData/' # Change me to store data elsewhere\n",
    "\n",
    "def download_progress_hook(count, blockSize, totalSize):\n",
    "  \"\"\"A hook to report the progress of a download. This is mostly intended for users with\n",
    "  slow internet connections. Reports every 5% change in download progress.\n",
    "  \"\"\"\n",
    "  global last_percent_reported\n",
    "  percent = int(count * blockSize * 100 / totalSize)\n",
    "\n",
    "  if last_percent_reported != percent:\n",
    "    if percent % 5 == 0:\n",
    "      sys.stdout.write(\"%s%%\" % percent)\n",
    "      sys.stdout.flush()\n",
    "    else:\n",
    "      sys.stdout.write(\".\")\n",
    "      sys.stdout.flush()\n",
    "      \n",
    "    last_percent_reported = percent\n",
    "        \n",
    "def maybe_download(filename, expected_bytes, force=False):\n",
    "  \"\"\"Download a file if not present, and make sure it's the right size.\"\"\"\n",
    "  dest_filename = os.path.join(data_root, filename)\n",
    "  if force or not os.path.exists(dest_filename):\n",
    "    print('Attempting to download:', filename) \n",
    "    filename, _ = urlretrieve(url + filename, dest_filename, reporthook=download_progress_hook)\n",
    "    print('\\nDownload Complete!')\n",
    "  statinfo = os.stat(dest_filename)\n",
    "  if statinfo.st_size == expected_bytes:\n",
    "    print('Found and verified', dest_filename)\n",
    "  else:\n",
    "    raise Exception(\n",
    "      'Failed to verify ' + dest_filename + '. Can you get to it with a browser?')\n",
    "  return dest_filename\n",
    "\n",
    "train_filename = maybe_download('notMNIST_large.tar.gz', 247336696)\n",
    "test_filename = maybe_download('notMNIST_small.tar.gz', 8458043)"
   ]
  },
  {
   "cell_type": "markdown",
   "metadata": {
    "colab_type": "text",
    "deletable": true,
    "editable": true,
    "id": "cC3p0oEyF8QT"
   },
   "source": [
    "Extract the dataset from the compressed .tar.gz file.\n",
    "This should give you a set of directories, labelled A through J."
   ]
  },
  {
   "cell_type": "code",
   "execution_count": 3,
   "metadata": {
    "cellView": "both",
    "colab": {
     "autoexec": {
      "startup": false,
      "wait_interval": 0
     },
     "output_extras": [
      {
       "item_id": 1
      }
     ]
    },
    "colab_type": "code",
    "collapsed": false,
    "deletable": true,
    "editable": true,
    "executionInfo": {
     "elapsed": 186055,
     "status": "ok",
     "timestamp": 1444485672525,
     "user": {
      "color": "#1FA15D",
      "displayName": "Vincent Vanhoucke",
      "isAnonymous": false,
      "isMe": true,
      "permissionId": "05076109866853157986",
      "photoUrl": "//lh6.googleusercontent.com/-cCJa7dTDcgQ/AAAAAAAAAAI/AAAAAAAACgw/r2EZ_8oYer4/s50-c-k-no/photo.jpg",
      "sessionId": "2a0a5e044bb03b66",
      "userId": "102167687554210253930"
     },
     "user_tz": 420
    },
    "id": "H8CBE-WZ8nmj",
    "outputId": "ef6c790c-2513-4b09-962e-27c79390c762"
   },
   "outputs": [
    {
     "name": "stdout",
     "output_type": "stream",
     "text": [
      "Extracting data for /home/panas/Desktop/udacityData/notMNIST_large. This may take a while. Please wait.\n",
      "['/home/panas/Desktop/udacityData/notMNIST_large/A', '/home/panas/Desktop/udacityData/notMNIST_large/B', '/home/panas/Desktop/udacityData/notMNIST_large/C', '/home/panas/Desktop/udacityData/notMNIST_large/D', '/home/panas/Desktop/udacityData/notMNIST_large/E', '/home/panas/Desktop/udacityData/notMNIST_large/F', '/home/panas/Desktop/udacityData/notMNIST_large/G', '/home/panas/Desktop/udacityData/notMNIST_large/H', '/home/panas/Desktop/udacityData/notMNIST_large/I', '/home/panas/Desktop/udacityData/notMNIST_large/J']\n",
      "Extracting data for /home/panas/Desktop/udacityData/notMNIST_small. This may take a while. Please wait.\n",
      "['/home/panas/Desktop/udacityData/notMNIST_small/A', '/home/panas/Desktop/udacityData/notMNIST_small/B', '/home/panas/Desktop/udacityData/notMNIST_small/C', '/home/panas/Desktop/udacityData/notMNIST_small/D', '/home/panas/Desktop/udacityData/notMNIST_small/E', '/home/panas/Desktop/udacityData/notMNIST_small/F', '/home/panas/Desktop/udacityData/notMNIST_small/G', '/home/panas/Desktop/udacityData/notMNIST_small/H', '/home/panas/Desktop/udacityData/notMNIST_small/I', '/home/panas/Desktop/udacityData/notMNIST_small/J']\n"
     ]
    }
   ],
   "source": [
    "num_classes = 10\n",
    "np.random.seed(133)\n",
    "\n",
    "def maybe_extract(filename, force=False):\n",
    "  root = os.path.splitext(os.path.splitext(filename)[0])[0]  # remove .tar.gz\n",
    "  if os.path.isdir(root) and not force:\n",
    "    # You may override by setting force=True.\n",
    "    print('%s already present - Skipping extraction of %s.' % (root, filename))\n",
    "  else:\n",
    "    print('Extracting data for %s. This may take a while. Please wait.' % root)\n",
    "    tar = tarfile.open(filename)\n",
    "    sys.stdout.flush()\n",
    "    tar.extractall(data_root)\n",
    "    tar.close()\n",
    "  data_folders = [\n",
    "    os.path.join(root, d) for d in sorted(os.listdir(root))\n",
    "    if os.path.isdir(os.path.join(root, d))]\n",
    "  if len(data_folders) != num_classes:\n",
    "    raise Exception(\n",
    "      'Expected %d folders, one per class. Found %d instead.' % (\n",
    "        num_classes, len(data_folders)))\n",
    "  print(data_folders)\n",
    "  return data_folders\n",
    "  \n",
    "train_folders = maybe_extract(train_filename)\n",
    "test_folders = maybe_extract(test_filename)"
   ]
  },
  {
   "cell_type": "markdown",
   "metadata": {
    "colab_type": "text",
    "deletable": true,
    "editable": true,
    "id": "4riXK3IoHgx6"
   },
   "source": [
    "---\n",
    "Problem 1\n",
    "---------\n",
    "\n",
    "Let's take a peek at some of the data to make sure it looks sensible. Each exemplar should be an image of a character A through J rendered in a different font. Display a sample of the images that we just downloaded. Hint: you can use the package IPython.display.\n",
    "\n",
    "---"
   ]
  },
  {
   "cell_type": "code",
   "execution_count": 10,
   "metadata": {
    "collapsed": false
   },
   "outputs": [
    {
     "data": {
      "image/png": "[encoded data removed]",
      "text/plain": [
       "<IPython.core.display.Image object>"
      ]
     },
     "execution_count": 10,
     "metadata": {},
     "output_type": "execute_result"
    }
   ],
   "source": [
    "from IPython.display import Image\n",
    "Image(filename=data_root+'/notMNIST_small/E/MDEtMDEtMDAudHRm.png') "
   ]
  },
  {
   "cell_type": "markdown",
   "metadata": {
    "colab_type": "text",
    "deletable": true,
    "editable": true,
    "id": "PBdkjESPK8tw"
   },
   "source": [
    "Now let's load the data in a more manageable format. Since, depending on your computer setup you might not be able to fit it all in memory, we'll load each class into a separate dataset, store them on disk and curate them independently. Later we'll merge them into a single dataset of manageable size.\n",
    "\n",
    "We'll convert the entire dataset into a 3D array (image index, x, y) of floating point values, **normalized to have approximately zero mean and standard deviation ~0.5 to make training easier down the road. **\n",
    "\n",
    "A few images might not be readable, we'll just skip them."
   ]
  },
  {
   "cell_type": "code",
   "execution_count": 11,
   "metadata": {
    "cellView": "both",
    "colab": {
     "autoexec": {
      "startup": false,
      "wait_interval": 0
     },
     "output_extras": [
      {
       "item_id": 30
      }
     ]
    },
    "colab_type": "code",
    "collapsed": false,
    "deletable": true,
    "editable": true,
    "executionInfo": {
     "elapsed": 399874,
     "status": "ok",
     "timestamp": 1444485886378,
     "user": {
      "color": "#1FA15D",
      "displayName": "Vincent Vanhoucke",
      "isAnonymous": false,
      "isMe": true,
      "permissionId": "05076109866853157986",
      "photoUrl": "//lh6.googleusercontent.com/-cCJa7dTDcgQ/AAAAAAAAAAI/AAAAAAAACgw/r2EZ_8oYer4/s50-c-k-no/photo.jpg",
      "sessionId": "2a0a5e044bb03b66",
      "userId": "102167687554210253930"
     },
     "user_tz": 420
    },
    "id": "h7q0XhG3MJdf",
    "outputId": "92c391bb-86ff-431d-9ada-315568a19e59"
   },
   "outputs": [
    {
     "name": "stdout",
     "output_type": "stream",
     "text": [
      "Pickling /home/panas/Desktop/udacityData/notMNIST_large/A.pickle.\n",
      "/home/panas/Desktop/udacityData/notMNIST_large/A\n",
      "Could not read:"
     ]
    },
    {
     "name": "stderr",
     "output_type": "stream",
     "text": [
      "ERROR:PIL.ImageFile:%s\n",
      "Traceback (most recent call last):\n",
      "  File \"/home/panas/anaconda2/lib/python2.7/site-packages/PIL/ImageFile.py\", line 100, in __init__\n",
      "    self._open()\n",
      "  File \"/home/panas/anaconda2/lib/python2.7/site-packages/PIL/IptcImagePlugin.py\", line 113, in _open\n",
      "    layers = i8(self.info[(3, 60)][0])\n",
      "KeyError: (3, 60)\n",
      "ERROR:PIL.ImageFile:%s\n",
      "Traceback (most recent call last):\n",
      "  File \"/home/panas/anaconda2/lib/python2.7/site-packages/PIL/ImageFile.py\", line 100, in __init__\n",
      "    self._open()\n",
      "  File \"/home/panas/anaconda2/lib/python2.7/site-packages/PIL/MpegImagePlugin.py\", line 71, in _open\n",
      "    if s.read(32) != 0x1B3:\n",
      "  File \"/home/panas/anaconda2/lib/python2.7/site-packages/PIL/MpegImagePlugin.py\", line 53, in read\n",
      "    v = self.peek(bits)\n",
      "  File \"/home/panas/anaconda2/lib/python2.7/site-packages/PIL/MpegImagePlugin.py\", line 38, in peek\n",
      "    c = self.next()\n",
      "  File \"/home/panas/anaconda2/lib/python2.7/site-packages/PIL/MpegImagePlugin.py\", line 34, in next\n",
      "    return i8(self.fp.read(1))\n",
      "  File \"/home/panas/anaconda2/lib/python2.7/site-packages/PIL/_binary.py\", line 18, in i8\n",
      "    return ord(c)\n",
      "TypeError: ord() expected a character, but string of length 0 found\n",
      "ERROR:PIL.ImageFile:%s\n",
      "Traceback (most recent call last):\n",
      "  File \"/home/panas/anaconda2/lib/python2.7/site-packages/PIL/ImageFile.py\", line 100, in __init__\n",
      "    self._open()\n",
      "  File \"/home/panas/anaconda2/lib/python2.7/site-packages/PIL/TgaImagePlugin.py\", line 57, in _open\n",
      "    idlen = i8(s[0])\n",
      "IndexError: string index out of range\n"
     ]
    },
    {
     "name": "stdout",
     "output_type": "stream",
     "text": [
      " /home/panas/Desktop/udacityData/notMNIST_large/A/RnJlaWdodERpc3BCb29rSXRhbGljLnR0Zg==.png : cannot identify image file '/home/panas/Desktop/udacityData/notMNIST_large/A/RnJlaWdodERpc3BCb29rSXRhbGljLnR0Zg==.png' - it's ok, skipping.\n",
      "Could not read:"
     ]
    },
    {
     "name": "stderr",
     "output_type": "stream",
     "text": [
      "ERROR:PIL.ImageFile:%s\n",
      "Traceback (most recent call last):\n",
      "  File \"/home/panas/anaconda2/lib/python2.7/site-packages/PIL/ImageFile.py\", line 100, in __init__\n",
      "    self._open()\n",
      "  File \"/home/panas/anaconda2/lib/python2.7/site-packages/PIL/IptcImagePlugin.py\", line 113, in _open\n",
      "    layers = i8(self.info[(3, 60)][0])\n",
      "KeyError: (3, 60)\n",
      "ERROR:PIL.ImageFile:%s\n",
      "Traceback (most recent call last):\n",
      "  File \"/home/panas/anaconda2/lib/python2.7/site-packages/PIL/ImageFile.py\", line 100, in __init__\n",
      "    self._open()\n",
      "  File \"/home/panas/anaconda2/lib/python2.7/site-packages/PIL/MpegImagePlugin.py\", line 71, in _open\n",
      "    if s.read(32) != 0x1B3:\n",
      "  File \"/home/panas/anaconda2/lib/python2.7/site-packages/PIL/MpegImagePlugin.py\", line 53, in read\n",
      "    v = self.peek(bits)\n",
      "  File \"/home/panas/anaconda2/lib/python2.7/site-packages/PIL/MpegImagePlugin.py\", line 38, in peek\n",
      "    c = self.next()\n",
      "  File \"/home/panas/anaconda2/lib/python2.7/site-packages/PIL/MpegImagePlugin.py\", line 34, in next\n",
      "    return i8(self.fp.read(1))\n",
      "  File \"/home/panas/anaconda2/lib/python2.7/site-packages/PIL/_binary.py\", line 18, in i8\n",
      "    return ord(c)\n",
      "TypeError: ord() expected a character, but string of length 0 found\n",
      "ERROR:PIL.ImageFile:%s\n",
      "Traceback (most recent call last):\n",
      "  File \"/home/panas/anaconda2/lib/python2.7/site-packages/PIL/ImageFile.py\", line 100, in __init__\n",
      "    self._open()\n",
      "  File \"/home/panas/anaconda2/lib/python2.7/site-packages/PIL/TgaImagePlugin.py\", line 57, in _open\n",
      "    idlen = i8(s[0])\n",
      "IndexError: string index out of range\n"
     ]
    },
    {
     "name": "stdout",
     "output_type": "stream",
     "text": [
      " /home/panas/Desktop/udacityData/notMNIST_large/A/Um9tYW5hIEJvbGQucGZi.png : cannot identify image file '/home/panas/Desktop/udacityData/notMNIST_large/A/Um9tYW5hIEJvbGQucGZi.png' - it's ok, skipping.\n",
      "Could not read: /home/panas/Desktop/udacityData/notMNIST_large/A/SG90IE11c3RhcmQgQlROIFBvc3Rlci50dGY=.png : cannot identify image file '/home/panas/Desktop/udacityData/notMNIST_large/A/SG90IE11c3RhcmQgQlROIFBvc3Rlci50dGY=.png' - it's ok, skipping.\n",
      "Full dataset tensor: (52909, 28, 28)\n",
      "Mean: -0.128251\n",
      "Standard deviation: 0.443121\n",
      "Pickling /home/panas/Desktop/udacityData/notMNIST_large/B.pickle."
     ]
    },
    {
     "name": "stderr",
     "output_type": "stream",
     "text": [
      "ERROR:PIL.ImageFile:%s\n",
      "Traceback (most recent call last):\n",
      "  File \"/home/panas/anaconda2/lib/python2.7/site-packages/PIL/ImageFile.py\", line 100, in __init__\n",
      "    self._open()\n",
      "  File \"/home/panas/anaconda2/lib/python2.7/site-packages/PIL/IptcImagePlugin.py\", line 113, in _open\n",
      "    layers = i8(self.info[(3, 60)][0])\n",
      "KeyError: (3, 60)\n",
      "ERROR:PIL.ImageFile:%s\n",
      "Traceback (most recent call last):\n",
      "  File \"/home/panas/anaconda2/lib/python2.7/site-packages/PIL/ImageFile.py\", line 100, in __init__\n",
      "    self._open()\n",
      "  File \"/home/panas/anaconda2/lib/python2.7/site-packages/PIL/MpegImagePlugin.py\", line 71, in _open\n",
      "    if s.read(32) != 0x1B3:\n",
      "  File \"/home/panas/anaconda2/lib/python2.7/site-packages/PIL/MpegImagePlugin.py\", line 53, in read\n",
      "    v = self.peek(bits)\n",
      "  File \"/home/panas/anaconda2/lib/python2.7/site-packages/PIL/MpegImagePlugin.py\", line 38, in peek\n",
      "    c = self.next()\n",
      "  File \"/home/panas/anaconda2/lib/python2.7/site-packages/PIL/MpegImagePlugin.py\", line 34, in next\n",
      "    return i8(self.fp.read(1))\n",
      "  File \"/home/panas/anaconda2/lib/python2.7/site-packages/PIL/_binary.py\", line 18, in i8\n",
      "    return ord(c)\n",
      "TypeError: ord() expected a character, but string of length 0 found\n",
      "ERROR:PIL.ImageFile:%s\n",
      "Traceback (most recent call last):\n",
      "  File \"/home/panas/anaconda2/lib/python2.7/site-packages/PIL/ImageFile.py\", line 100, in __init__\n",
      "    self._open()\n",
      "  File \"/home/panas/anaconda2/lib/python2.7/site-packages/PIL/TgaImagePlugin.py\", line 57, in _open\n",
      "    idlen = i8(s[0])\n",
      "IndexError: string index out of range\n"
     ]
    },
    {
     "name": "stdout",
     "output_type": "stream",
     "text": [
      "\n",
      "/home/panas/Desktop/udacityData/notMNIST_large/B\n",
      "Could not read: /home/panas/Desktop/udacityData/notMNIST_large/B/TmlraXNFRi1TZW1pQm9sZEl0YWxpYy5vdGY=.png : cannot identify image file '/home/panas/Desktop/udacityData/notMNIST_large/B/TmlraXNFRi1TZW1pQm9sZEl0YWxpYy5vdGY=.png' - it's ok, skipping.\n",
      "Full dataset tensor: (52911, 28, 28)\n",
      "Mean: -0.00756306\n",
      "Standard deviation: 0.454491\n",
      "Pickling /home/panas/Desktop/udacityData/notMNIST_large/C.pickle.\n",
      "/home/panas/Desktop/udacityData/notMNIST_large/C\n",
      "Full dataset tensor: (52912, 28, 28)\n",
      "Mean: -0.142258\n",
      "Standard deviation: 0.439806\n",
      "Pickling /home/panas/Desktop/udacityData/notMNIST_large/D.pickle."
     ]
    },
    {
     "name": "stderr",
     "output_type": "stream",
     "text": [
      "ERROR:PIL.ImageFile:%s\n",
      "Traceback (most recent call last):\n",
      "  File \"/home/panas/anaconda2/lib/python2.7/site-packages/PIL/ImageFile.py\", line 100, in __init__\n",
      "    self._open()\n",
      "  File \"/home/panas/anaconda2/lib/python2.7/site-packages/PIL/IptcImagePlugin.py\", line 113, in _open\n",
      "    layers = i8(self.info[(3, 60)][0])\n",
      "KeyError: (3, 60)\n",
      "ERROR:PIL.ImageFile:%s\n",
      "Traceback (most recent call last):\n",
      "  File \"/home/panas/anaconda2/lib/python2.7/site-packages/PIL/ImageFile.py\", line 100, in __init__\n",
      "    self._open()\n",
      "  File \"/home/panas/anaconda2/lib/python2.7/site-packages/PIL/MpegImagePlugin.py\", line 71, in _open\n",
      "    if s.read(32) != 0x1B3:\n",
      "  File \"/home/panas/anaconda2/lib/python2.7/site-packages/PIL/MpegImagePlugin.py\", line 53, in read\n",
      "    v = self.peek(bits)\n",
      "  File \"/home/panas/anaconda2/lib/python2.7/site-packages/PIL/MpegImagePlugin.py\", line 38, in peek\n",
      "    c = self.next()\n",
      "  File \"/home/panas/anaconda2/lib/python2.7/site-packages/PIL/MpegImagePlugin.py\", line 34, in next\n",
      "    return i8(self.fp.read(1))\n",
      "  File \"/home/panas/anaconda2/lib/python2.7/site-packages/PIL/_binary.py\", line 18, in i8\n",
      "    return ord(c)\n",
      "TypeError: ord() expected a character, but string of length 0 found\n",
      "ERROR:PIL.ImageFile:%s\n",
      "Traceback (most recent call last):\n",
      "  File \"/home/panas/anaconda2/lib/python2.7/site-packages/PIL/ImageFile.py\", line 100, in __init__\n",
      "    self._open()\n",
      "  File \"/home/panas/anaconda2/lib/python2.7/site-packages/PIL/TgaImagePlugin.py\", line 57, in _open\n",
      "    idlen = i8(s[0])\n",
      "IndexError: string index out of range\n"
     ]
    },
    {
     "name": "stdout",
     "output_type": "stream",
     "text": [
      "\n",
      "/home/panas/Desktop/udacityData/notMNIST_large/D\n",
      "Could not read: /home/panas/Desktop/udacityData/notMNIST_large/D/VHJhbnNpdCBCb2xkLnR0Zg==.png : cannot identify image file '/home/panas/Desktop/udacityData/notMNIST_large/D/VHJhbnNpdCBCb2xkLnR0Zg==.png' - it's ok, skipping.\n",
      "Full dataset tensor: (52911, 28, 28)\n",
      "Mean: -0.0573677\n",
      "Standard deviation: 0.455647\n",
      "Pickling /home/panas/Desktop/udacityData/notMNIST_large/E.pickle.\n",
      "/home/panas/Desktop/udacityData/notMNIST_large/E\n",
      "Full dataset tensor: (52912, 28, 28)\n",
      "Mean: -0.069899\n",
      "Standard deviation: 0.452942\n",
      "Pickling /home/panas/Desktop/udacityData/notMNIST_large/F.pickle.\n",
      "/home/panas/Desktop/udacityData/notMNIST_large/F\n",
      "Full dataset tensor: (52912, 28, 28)\n",
      "Mean: -0.125583\n",
      "Standard deviation: 0.44709\n",
      "Pickling /home/panas/Desktop/udacityData/notMNIST_large/G.pickle.\n",
      "/home/panas/Desktop/udacityData/notMNIST_large/G\n",
      "Full dataset tensor: (52912, 28, 28)\n",
      "Mean: -0.0945815\n",
      "Standard deviation: 0.44624\n",
      "Pickling /home/panas/Desktop/udacityData/notMNIST_large/H.pickle.\n",
      "/home/panas/Desktop/udacityData/notMNIST_large/H\n",
      "Full dataset tensor: (52912, 28, 28)\n",
      "Mean: -0.0685222\n",
      "Standard deviation: 0.454232\n",
      "Pickling /home/panas/Desktop/udacityData/notMNIST_large/I.pickle.\n",
      "/home/panas/Desktop/udacityData/notMNIST_large/I\n",
      "Full dataset tensor: (52912, 28, 28)\n",
      "Mean: 0.0307863\n",
      "Standard deviation: 0.468899\n",
      "Pickling /home/panas/Desktop/udacityData/notMNIST_large/J.pickle.\n",
      "/home/panas/Desktop/udacityData/notMNIST_large/J\n",
      "Full dataset tensor: (52911, 28, 28)\n",
      "Mean: -0.153358\n",
      "Standard deviation: 0.443656\n",
      "Pickling /home/panas/Desktop/udacityData/notMNIST_small/A.pickle."
     ]
    },
    {
     "name": "stderr",
     "output_type": "stream",
     "text": [
      "ERROR:PIL.ImageFile:%s\n",
      "Traceback (most recent call last):\n",
      "  File \"/home/panas/anaconda2/lib/python2.7/site-packages/PIL/ImageFile.py\", line 100, in __init__\n",
      "    self._open()\n",
      "  File \"/home/panas/anaconda2/lib/python2.7/site-packages/PIL/IptcImagePlugin.py\", line 113, in _open\n",
      "    layers = i8(self.info[(3, 60)][0])\n",
      "KeyError: (3, 60)\n",
      "ERROR:PIL.ImageFile:%s\n",
      "Traceback (most recent call last):\n",
      "  File \"/home/panas/anaconda2/lib/python2.7/site-packages/PIL/ImageFile.py\", line 100, in __init__\n",
      "    self._open()\n",
      "  File \"/home/panas/anaconda2/lib/python2.7/site-packages/PIL/MpegImagePlugin.py\", line 71, in _open\n",
      "    if s.read(32) != 0x1B3:\n",
      "  File \"/home/panas/anaconda2/lib/python2.7/site-packages/PIL/MpegImagePlugin.py\", line 53, in read\n",
      "    v = self.peek(bits)\n",
      "  File \"/home/panas/anaconda2/lib/python2.7/site-packages/PIL/MpegImagePlugin.py\", line 38, in peek\n",
      "    c = self.next()\n",
      "  File \"/home/panas/anaconda2/lib/python2.7/site-packages/PIL/MpegImagePlugin.py\", line 34, in next\n",
      "    return i8(self.fp.read(1))\n",
      "  File \"/home/panas/anaconda2/lib/python2.7/site-packages/PIL/_binary.py\", line 18, in i8\n",
      "    return ord(c)\n",
      "TypeError: ord() expected a character, but string of length 0 found\n",
      "ERROR:PIL.ImageFile:%s\n",
      "Traceback (most recent call last):\n",
      "  File \"/home/panas/anaconda2/lib/python2.7/site-packages/PIL/ImageFile.py\", line 100, in __init__\n",
      "    self._open()\n",
      "  File \"/home/panas/anaconda2/lib/python2.7/site-packages/PIL/TgaImagePlugin.py\", line 57, in _open\n",
      "    idlen = i8(s[0])\n",
      "IndexError: string index out of range\n"
     ]
    },
    {
     "name": "stdout",
     "output_type": "stream",
     "text": [
      "\n",
      "/home/panas/Desktop/udacityData/notMNIST_small/A\n",
      "Could not read: /home/panas/Desktop/udacityData/notMNIST_small/A/RGVtb2NyYXRpY2FCb2xkT2xkc3R5bGUgQm9sZC50dGY=.png : cannot identify image file '/home/panas/Desktop/udacityData/notMNIST_small/A/RGVtb2NyYXRpY2FCb2xkT2xkc3R5bGUgQm9sZC50dGY=.png' - it's ok, skipping.\n",
      "Full dataset tensor: (1872, 28, 28)\n",
      "Mean: -0.132626\n",
      "Standard deviation: 0.445128\n",
      "Pickling /home/panas/Desktop/udacityData/notMNIST_small/B.pickle.\n",
      "/home/panas/Desktop/udacityData/notMNIST_small/B\n",
      "Full dataset tensor: (1873, 28, 28)\n",
      "Mean: 0.00535608\n",
      "Standard deviation: 0.457115\n",
      "Pickling /home/panas/Desktop/udacityData/notMNIST_small/C.pickle.\n",
      "/home/panas/Desktop/udacityData/notMNIST_small/C\n",
      "Full dataset tensor: (1873, 28, 28)\n",
      "Mean: -0.141521\n",
      "Standard deviation: 0.44269\n",
      "Pickling /home/panas/Desktop/udacityData/notMNIST_small/D.pickle.\n",
      "/home/panas/Desktop/udacityData/notMNIST_small/D\n",
      "Full dataset tensor: (1873, 28, 28)\n",
      "Mean: -0.0492167\n",
      "Standard deviation: 0.459759\n",
      "Pickling /home/panas/Desktop/udacityData/notMNIST_small/E.pickle.\n",
      "/home/panas/Desktop/udacityData/notMNIST_small/E\n",
      "Full dataset tensor:"
     ]
    },
    {
     "name": "stderr",
     "output_type": "stream",
     "text": [
      "ERROR:PIL.ImageFile:%s\n",
      "Traceback (most recent call last):\n",
      "  File \"/home/panas/anaconda2/lib/python2.7/site-packages/PIL/ImageFile.py\", line 100, in __init__\n",
      "    self._open()\n",
      "  File \"/home/panas/anaconda2/lib/python2.7/site-packages/PIL/IptcImagePlugin.py\", line 113, in _open\n",
      "    layers = i8(self.info[(3, 60)][0])\n",
      "KeyError: (3, 60)\n",
      "ERROR:PIL.ImageFile:%s\n",
      "Traceback (most recent call last):\n",
      "  File \"/home/panas/anaconda2/lib/python2.7/site-packages/PIL/ImageFile.py\", line 100, in __init__\n",
      "    self._open()\n",
      "  File \"/home/panas/anaconda2/lib/python2.7/site-packages/PIL/MpegImagePlugin.py\", line 71, in _open\n",
      "    if s.read(32) != 0x1B3:\n",
      "  File \"/home/panas/anaconda2/lib/python2.7/site-packages/PIL/MpegImagePlugin.py\", line 53, in read\n",
      "    v = self.peek(bits)\n",
      "  File \"/home/panas/anaconda2/lib/python2.7/site-packages/PIL/MpegImagePlugin.py\", line 38, in peek\n",
      "    c = self.next()\n",
      "  File \"/home/panas/anaconda2/lib/python2.7/site-packages/PIL/MpegImagePlugin.py\", line 34, in next\n",
      "    return i8(self.fp.read(1))\n",
      "  File \"/home/panas/anaconda2/lib/python2.7/site-packages/PIL/_binary.py\", line 18, in i8\n",
      "    return ord(c)\n",
      "TypeError: ord() expected a character, but string of length 0 found\n",
      "ERROR:PIL.ImageFile:%s\n",
      "Traceback (most recent call last):\n",
      "  File \"/home/panas/anaconda2/lib/python2.7/site-packages/PIL/ImageFile.py\", line 100, in __init__\n",
      "    self._open()\n",
      "  File \"/home/panas/anaconda2/lib/python2.7/site-packages/PIL/TgaImagePlugin.py\", line 57, in _open\n",
      "    idlen = i8(s[0])\n",
      "IndexError: string index out of range\n"
     ]
    },
    {
     "name": "stdout",
     "output_type": "stream",
     "text": [
      " (1873, 28, 28)\n",
      "Mean: -0.0599148\n",
      "Standard deviation: 0.45735\n",
      "Pickling /home/panas/Desktop/udacityData/notMNIST_small/F.pickle.\n",
      "/home/panas/Desktop/udacityData/notMNIST_small/F\n",
      "Could not read: /home/panas/Desktop/udacityData/notMNIST_small/F/Q3Jvc3NvdmVyIEJvbGRPYmxpcXVlLnR0Zg==.png : cannot identify image file '/home/panas/Desktop/udacityData/notMNIST_small/F/Q3Jvc3NvdmVyIEJvbGRPYmxpcXVlLnR0Zg==.png' - it's ok, skipping.\n",
      "Full dataset tensor: (1872, 28, 28)\n",
      "Mean: -0.118185\n",
      "Standard deviation: 0.452279\n",
      "Pickling /home/panas/Desktop/udacityData/notMNIST_small/G.pickle.\n",
      "/home/panas/Desktop/udacityData/notMNIST_small/G\n",
      "Full dataset tensor: (1872, 28, 28)\n",
      "Mean: -0.0925503\n",
      "Standard deviation: 0.449006\n",
      "Pickling /home/panas/Desktop/udacityData/notMNIST_small/H.pickle.\n",
      "/home/panas/Desktop/udacityData/notMNIST_small/H\n",
      "Full dataset tensor: (1872, 28, 28)\n",
      "Mean: -0.0586892\n",
      "Standard deviation: 0.458759\n",
      "Pickling /home/panas/Desktop/udacityData/notMNIST_small/I.pickle.\n",
      "/home/panas/Desktop/udacityData/notMNIST_small/I\n",
      "Full dataset tensor: (1872, 28, 28)\n",
      "Mean: 0.0526451\n",
      "Standard deviation: 0.471894\n",
      "Pickling /home/panas/Desktop/udacityData/notMNIST_small/J.pickle.\n",
      "/home/panas/Desktop/udacityData/notMNIST_small/J\n",
      "Full dataset tensor: (1872, 28, 28)\n",
      "Mean: -0.151689\n",
      "Standard deviation: 0.448014\n"
     ]
    }
   ],
   "source": [
    "image_size = 28  # Pixel width and height.\n",
    "pixel_depth = 255.0  # Number of levels per pixel.\n",
    "\n",
    "def load_letter(folder, min_num_images):\n",
    "  \"\"\"Load the data for a single letter label.\"\"\"\n",
    "  image_files = os.listdir(folder)\n",
    "  dataset = np.ndarray(shape=(len(image_files), image_size, image_size),\n",
    "                         dtype=np.float32)\n",
    "  print(folder)\n",
    "  num_images = 0\n",
    "  for image in image_files:\n",
    "    image_file = os.path.join(folder, image)\n",
    "    try:\n",
    "      image_data = (ndimage.imread(image_file).astype(float) - \n",
    "                    pixel_depth / 2) / pixel_depth\n",
    "      if image_data.shape != (image_size, image_size):\n",
    "        raise Exception('Unexpected image shape: %s' % str(image_data.shape))\n",
    "      dataset[num_images, :, :] = image_data\n",
    "      num_images = num_images + 1\n",
    "    except IOError as e:\n",
    "      print('Could not read:', image_file, ':', e, '- it\\'s ok, skipping.')\n",
    "    \n",
    "  dataset = dataset[0:num_images, :, :]\n",
    "  if num_images < min_num_images:\n",
    "    raise Exception('Many fewer images than expected: %d < %d' %\n",
    "                    (num_images, min_num_images))\n",
    "    \n",
    "  print('Full dataset tensor:', dataset.shape)\n",
    "  print('Mean:', np.mean(dataset))\n",
    "  print('Standard deviation:', np.std(dataset))\n",
    "  return dataset\n",
    "        \n",
    "def maybe_pickle(data_folders, min_num_images_per_class, force=False):\n",
    "  dataset_names = []\n",
    "  for folder in data_folders:\n",
    "    set_filename = folder + '.pickle'\n",
    "    dataset_names.append(set_filename)\n",
    "    if os.path.exists(set_filename) and not force:\n",
    "      # You may override by setting force=True.\n",
    "      print('%s already present - Skipping pickling.' % set_filename)\n",
    "    else:\n",
    "      print('Pickling %s.' % set_filename)\n",
    "      dataset = load_letter(folder, min_num_images_per_class)\n",
    "      try:\n",
    "        with open(set_filename, 'wb') as f:\n",
    "          pickle.dump(dataset, f, pickle.HIGHEST_PROTOCOL)\n",
    "      except Exception as e:\n",
    "        print('Unable to save data to', set_filename, ':', e)\n",
    "  \n",
    "  return dataset_names\n",
    "\n",
    "train_datasets = maybe_pickle(train_folders, 45000)\n",
    "test_datasets = maybe_pickle(test_folders, 1800)"
   ]
  },
  {
   "cell_type": "markdown",
   "metadata": {
    "colab_type": "text",
    "deletable": true,
    "editable": true,
    "id": "vUdbskYE2d87"
   },
   "source": [
    "---\n",
    "Problem 2\n",
    "---------\n",
    "\n",
    "Let's verify that the data still looks good. Displaying a sample of the labels and images from the ndarray. Hint: you can use matplotlib.pyplot.\n",
    "\n",
    "---"
   ]
  },
  {
   "cell_type": "code",
   "execution_count": 23,
   "metadata": {
    "collapsed": false
   },
   "outputs": [
    {
     "data": {
      "text/plain": [
       "(1873, 28, 28)"
      ]
     },
     "execution_count": 23,
     "metadata": {},
     "output_type": "execute_result"
    }
   ],
   "source": [
    "train = pickle.load(open(data_root+'/notMNIST_small/B.pickle'))\n",
    "train.shape"
   ]
  },
  {
   "cell_type": "code",
   "execution_count": 22,
   "metadata": {
    "collapsed": false
   },
   "outputs": [
    {
     "data": {
      "image/png": "[encoded data removed]",
      "text/plain": [
       "<matplotlib.figure.Figure at 0x7f0225bed950>"
      ]
     },
     "metadata": {},
     "output_type": "display_data"
    }
   ],
   "source": [
    "import matplotlib.cm as cm\n",
    "import matplotlib.pyplot as plt\n",
    "\n",
    "\n",
    "plt.imshow(train[2].reshape((28, 28)), cmap=cm.Greys_r)\n",
    "plt.show()"
   ]
  },
  {
   "cell_type": "markdown",
   "metadata": {
    "colab_type": "text",
    "deletable": true,
    "editable": true,
    "id": "cYznx5jUwzoO"
   },
   "source": [
    "---\n",
    "Problem 3\n",
    "---------\n",
    "Another check: we expect the data to be balanced across classes. Verify that.\n",
    "\n",
    "---"
   ]
  },
  {
   "cell_type": "code",
   "execution_count": 25,
   "metadata": {
    "collapsed": false
   },
   "outputs": [
    {
     "name": "stdout",
     "output_type": "stream",
     "text": [
      "Test Data:[1872, 1873, 1873, 1873, 1873, 1872, 1872, 1872, 1872, 1872]\n",
      "Train Data:[52909, 52911, 52912, 52911, 52912, 52912, 52912, 52912, 52912, 52911]\n"
     ]
    }
   ],
   "source": [
    "numExamplesTest = []\n",
    "numExamplesTrain = []\n",
    "classes = ['A','B','C','D','E','F','G','H','I','J']\n",
    "\n",
    "for i in classes:\n",
    "    train = pickle.load(open(data_root+'/notMNIST_large/'+ i +'.pickle'))\n",
    "    test = pickle.load(open(data_root+'/notMNIST_small/'+ i +'.pickle'))\n",
    "    \n",
    "    numExamplesTrain.append(train.shape[0])\n",
    "    numExamplesTest.append(test.shape[0])\n",
    "    \n",
    "\n",
    "print('Test Data:' + str(numExamplesTest))\n",
    "print('Train Data:' + str(numExamplesTrain))"
   ]
  },
  {
   "cell_type": "markdown",
   "metadata": {
    "colab_type": "text",
    "deletable": true,
    "editable": true,
    "id": "LA7M7K22ynCt"
   },
   "source": [
    "Merge and prune the training data as needed. Depending on your computer setup, you might not be able to fit it all in memory, and you can tune `train_size` as needed. The labels will be stored into a separate array of integers 0 through 9.\n",
    "\n",
    "Also create a validation dataset for hyperparameter tuning."
   ]
  },
  {
   "cell_type": "code",
   "execution_count": 26,
   "metadata": {
    "cellView": "both",
    "colab": {
     "autoexec": {
      "startup": false,
      "wait_interval": 0
     },
     "output_extras": [
      {
       "item_id": 1
      }
     ]
    },
    "colab_type": "code",
    "collapsed": false,
    "deletable": true,
    "editable": true,
    "executionInfo": {
     "elapsed": 411281,
     "status": "ok",
     "timestamp": 1444485897869,
     "user": {
      "color": "#1FA15D",
      "displayName": "Vincent Vanhoucke",
      "isAnonymous": false,
      "isMe": true,
      "permissionId": "05076109866853157986",
      "photoUrl": "//lh6.googleusercontent.com/-cCJa7dTDcgQ/AAAAAAAAAAI/AAAAAAAACgw/r2EZ_8oYer4/s50-c-k-no/photo.jpg",
      "sessionId": "2a0a5e044bb03b66",
      "userId": "102167687554210253930"
     },
     "user_tz": 420
    },
    "id": "s3mWgZLpyuzq",
    "outputId": "8af66da6-902d-4719-bedc-7c9fb7ae7948"
   },
   "outputs": [
    {
     "name": "stdout",
     "output_type": "stream",
     "text": [
      "Training: (200000, 28, 28) (200000,)\n",
      "Validation: (10000, 28, 28) (10000,)\n",
      "Testing: (10000, 28, 28) (10000,)\n"
     ]
    }
   ],
   "source": [
    "def make_arrays(nb_rows, img_size):\n",
    "  if nb_rows:\n",
    "    dataset = np.ndarray((nb_rows, img_size, img_size), dtype=np.float32)\n",
    "    labels = np.ndarray(nb_rows, dtype=np.int32)\n",
    "  else:\n",
    "    dataset, labels = None, None\n",
    "  return dataset, labels\n",
    "\n",
    "def merge_datasets(pickle_files, train_size, valid_size=0):\n",
    "  num_classes = len(pickle_files)\n",
    "  valid_dataset, valid_labels = make_arrays(valid_size, image_size)\n",
    "  train_dataset, train_labels = make_arrays(train_size, image_size)\n",
    "  vsize_per_class = valid_size // num_classes\n",
    "  tsize_per_class = train_size // num_classes\n",
    "    \n",
    "  start_v, start_t = 0, 0\n",
    "  end_v, end_t = vsize_per_class, tsize_per_class\n",
    "  end_l = vsize_per_class+tsize_per_class\n",
    "  for label, pickle_file in enumerate(pickle_files):       \n",
    "    try:\n",
    "      with open(pickle_file, 'rb') as f:\n",
    "        letter_set = pickle.load(f)\n",
    "        # let's shuffle the letters to have random validation and training set\n",
    "        np.random.shuffle(letter_set)\n",
    "        if valid_dataset is not None:\n",
    "          valid_letter = letter_set[:vsize_per_class, :, :]\n",
    "          valid_dataset[start_v:end_v, :, :] = valid_letter\n",
    "          valid_labels[start_v:end_v] = label\n",
    "          start_v += vsize_per_class\n",
    "          end_v += vsize_per_class\n",
    "                    \n",
    "        train_letter = letter_set[vsize_per_class:end_l, :, :]\n",
    "        train_dataset[start_t:end_t, :, :] = train_letter\n",
    "        train_labels[start_t:end_t] = label\n",
    "        start_t += tsize_per_class\n",
    "        end_t += tsize_per_class\n",
    "    except Exception as e:\n",
    "      print('Unable to process data from', pickle_file, ':', e)\n",
    "      raise\n",
    "    \n",
    "  return valid_dataset, valid_labels, train_dataset, train_labels\n",
    "            \n",
    "            \n",
    "train_size = 200000\n",
    "valid_size = 10000\n",
    "test_size = 10000\n",
    "\n",
    "valid_dataset, valid_labels, train_dataset, train_labels = merge_datasets(\n",
    "  train_datasets, train_size, valid_size)\n",
    "_, _, test_dataset, test_labels = merge_datasets(test_datasets, test_size)\n",
    "\n",
    "print('Training:', train_dataset.shape, train_labels.shape)\n",
    "print('Validation:', valid_dataset.shape, valid_labels.shape)\n",
    "print('Testing:', test_dataset.shape, test_labels.shape)"
   ]
  },
  {
   "cell_type": "markdown",
   "metadata": {
    "colab_type": "text",
    "deletable": true,
    "editable": true,
    "id": "GPTCnjIcyuKN"
   },
   "source": [
    "Next, we'll randomize the data. It's important to have the labels well shuffled for the training and test distributions to match."
   ]
  },
  {
   "cell_type": "code",
   "execution_count": 27,
   "metadata": {
    "cellView": "both",
    "colab": {
     "autoexec": {
      "startup": false,
      "wait_interval": 0
     }
    },
    "colab_type": "code",
    "collapsed": true,
    "deletable": true,
    "editable": true,
    "id": "6WZ2l2tN2zOL"
   },
   "outputs": [],
   "source": [
    "def randomize(dataset, labels):\n",
    "  permutation = np.random.permutation(labels.shape[0])\n",
    "  shuffled_dataset = dataset[permutation,:,:]\n",
    "  shuffled_labels = labels[permutation]\n",
    "  return shuffled_dataset, shuffled_labels\n",
    "train_dataset, train_labels = randomize(train_dataset, train_labels)\n",
    "test_dataset, test_labels = randomize(test_dataset, test_labels)\n",
    "valid_dataset, valid_labels = randomize(valid_dataset, valid_labels)"
   ]
  },
  {
   "cell_type": "markdown",
   "metadata": {
    "colab_type": "text",
    "deletable": true,
    "editable": true,
    "id": "puDUTe6t6USl"
   },
   "source": [
    "---\n",
    "Problem 4\n",
    "---------\n",
    "Convince yourself that the data is still good after shuffling!\n",
    "\n",
    "---"
   ]
  },
  {
   "cell_type": "code",
   "execution_count": 31,
   "metadata": {
    "collapsed": false
   },
   "outputs": [
    {
     "name": "stdout",
     "output_type": "stream",
     "text": [
      "Train - unique labels: [0 1 2 3 4 5 6 7 8 9]\n",
      "Train - label counts: [20000 20000 20000 20000 20000 20000 20000 20000 20000 20000]\n",
      "Valid - unique labels: [0 1 2 3 4 5 6 7 8 9]\n",
      "Valid - label counts: [1000 1000 1000 1000 1000 1000 1000 1000 1000 1000]\n",
      "Test - unique labels: [0 1 2 3 4 5 6 7 8 9]\n",
      "Test - label counts: [1000 1000 1000 1000 1000 1000 1000 1000 1000 1000]\n"
     ]
    }
   ],
   "source": [
    "print('Train - unique labels: ' + str(np.unique(train_labels)))\n",
    "print('Train - label counts: '+ str(np.bincount(train_labels)))\n",
    "print('Valid - unique labels: ' + str(np.unique(valid_labels)))\n",
    "print('Valid - label counts: '+ str(np.bincount(valid_labels)))\n",
    "print('Test - unique labels: ' + str(np.unique(test_labels)))\n",
    "print('Test - label counts: '+ str(np.bincount(test_labels)))"
   ]
  },
  {
   "cell_type": "markdown",
   "metadata": {
    "colab_type": "text",
    "deletable": true,
    "editable": true,
    "id": "tIQJaJuwg5Hw"
   },
   "source": [
    "Finally, let's save the data for later reuse:"
   ]
  },
  {
   "cell_type": "code",
   "execution_count": 32,
   "metadata": {
    "cellView": "both",
    "colab": {
     "autoexec": {
      "startup": false,
      "wait_interval": 0
     }
    },
    "colab_type": "code",
    "collapsed": true,
    "deletable": true,
    "editable": true,
    "id": "QiR_rETzem6C"
   },
   "outputs": [],
   "source": [
    "pickle_file = os.path.join(data_root, 'notMNIST.pickle')\n",
    "\n",
    "try:\n",
    "  f = open(pickle_file, 'wb')\n",
    "  save = {\n",
    "    'train_dataset': train_dataset,\n",
    "    'train_labels': train_labels,\n",
    "    'valid_dataset': valid_dataset,\n",
    "    'valid_labels': valid_labels,\n",
    "    'test_dataset': test_dataset,\n",
    "    'test_labels': test_labels,\n",
    "    }\n",
    "  pickle.dump(save, f, pickle.HIGHEST_PROTOCOL)\n",
    "  f.close()\n",
    "except Exception as e:\n",
    "  print('Unable to save data to', pickle_file, ':', e)\n",
    "  raise"
   ]
  },
  {
   "cell_type": "code",
   "execution_count": 33,
   "metadata": {
    "cellView": "both",
    "colab": {
     "autoexec": {
      "startup": false,
      "wait_interval": 0
     },
     "output_extras": [
      {
       "item_id": 1
      }
     ]
    },
    "colab_type": "code",
    "collapsed": false,
    "deletable": true,
    "editable": true,
    "executionInfo": {
     "elapsed": 413065,
     "status": "ok",
     "timestamp": 1444485899688,
     "user": {
      "color": "#1FA15D",
      "displayName": "Vincent Vanhoucke",
      "isAnonymous": false,
      "isMe": true,
      "permissionId": "05076109866853157986",
      "photoUrl": "//lh6.googleusercontent.com/-cCJa7dTDcgQ/AAAAAAAAAAI/AAAAAAAACgw/r2EZ_8oYer4/s50-c-k-no/photo.jpg",
      "sessionId": "2a0a5e044bb03b66",
      "userId": "102167687554210253930"
     },
     "user_tz": 420
    },
    "id": "hQbLjrW_iT39",
    "outputId": "b440efc6-5ee1-4cbc-d02d-93db44ebd956"
   },
   "outputs": [
    {
     "name": "stdout",
     "output_type": "stream",
     "text": [
      "Compressed pickle size: 690800441\n"
     ]
    }
   ],
   "source": [
    "statinfo = os.stat(pickle_file)\n",
    "print('Compressed pickle size:', statinfo.st_size)"
   ]
  },
  {
   "cell_type": "markdown",
   "metadata": {
    "colab_type": "text",
    "deletable": true,
    "editable": true,
    "id": "gE_cRAQB33lk"
   },
   "source": [
    "---\n",
    "Problem 5\n",
    "---------\n",
    "\n",
    "By construction, this dataset might contain a lot of overlapping samples, including training data that's also contained in the validation and test set! Overlap between training and test can skew the results if you expect to use your model in an environment where there is never an overlap, but are actually ok if you expect to see training samples recur when you use it.\n",
    "Measure how much overlap there is between training, validation and test samples.\n",
    "\n",
    "Optional questions:\n",
    "- What about near duplicates between datasets? (images that are almost identical)\n",
    "- Create a sanitized validation and test set, and compare your accuracy on those in subsequent assignments.\n",
    "---\n",
    "\n",
    "### Notes \n",
    "\n",
    "\n",
    "\n",
    "- Training and cross validation overlap: model has seen data during training that is used in CV, so CV results will be overly optimistic. Hence a wrong model could be chosen form CV and its estimated model performance might be estimated too high.\n",
    "\n",
    "- Cross validation and test overlap: the test results will be overly optimistic as the model best performing on CV was selected to be used on test data. Hence the final (e.g. reported) model performance might be too high.\n",
    "\n",
    "- Training and test overlap: the test results will be overly optimistic, as the model was using the same data during training already - again, the final (e.g. reported) model performance might be too high.\n"
   ]
  },
  {
   "cell_type": "code",
   "execution_count": 92,
   "metadata": {
    "collapsed": false
   },
   "outputs": [],
   "source": [
    "def overlapCount(train,test):\n",
    "    import hashlib\n",
    "    from functools import reduce\n",
    "    \n",
    "    #convert images to hexadecimal\n",
    "    train_hex = [hashlib.md5(np.ravel(image)).hexdigest() for image in train]\n",
    "    test_hex = [hashlib.md5(np.ravel(image)).hexdigest() for image in test]\n",
    "    \n",
    "    # Individual datasets\n",
    "    trainOverlap = len(train_hex) - np.unique(train_hex).shape[0]\n",
    "    trainOverlapPortion = np.double(trainOverlap / float(len(train_hex)))\n",
    "    \n",
    "    testOverlap = len(test_hex) - np.unique(test_hex).shape[0]\n",
    "    testOverlapPortion = np.double(testOverlap / float(len(test_hex)))\n",
    "    \n",
    "    # Inter-dataset Overlap\n",
    "    trainTestOverlap = len(reduce(np.intersect1d, (train_hex,test_hex)))\n",
    "    trainTestOverlapPortion = np.double(trainTestOverlap / float(len(test_hex)))\n",
    "    \n",
    "    print(\"Train set number of examples overlap: \" + str(trainOverlap) + \n",
    "          ' Portion of examples: ' + str(trainOverlapPortion))\n",
    "    \n",
    "    print(\"Test set number of examples overlap: \" + str(testOverlap) + \n",
    "          ' Portion of examples: ' + str(testOverlapPortion))\n",
    "    \n",
    "    print(\"Test set number of images overlap with Train set: \" + str(trainTestOverlap) + \n",
    "          ' Portion of examples: ' + str(trainTestOverlapPortion))"
   ]
  },
  {
   "cell_type": "code",
   "execution_count": 93,
   "metadata": {
    "collapsed": false
   },
   "outputs": [
    {
     "name": "stdout",
     "output_type": "stream",
     "text": [
      "Train set number of examples overlap: 12643 Portion of examples: 0.063215\n",
      "Test set number of examples overlap: 129 Portion of examples: 0.0129\n",
      "Test set number of images overlap with Train set: 954 Portion of examples: 0.0954\n"
     ]
    }
   ],
   "source": [
    "overlapCount(train_dataset,valid_dataset)"
   ]
  },
  {
   "cell_type": "code",
   "execution_count": 94,
   "metadata": {
    "collapsed": false
   },
   "outputs": [
    {
     "name": "stdout",
     "output_type": "stream",
     "text": [
      "Train set number of examples overlap: 12643 Portion of examples: 0.063215\n",
      "Test set number of examples overlap: 191 Portion of examples: 0.0191\n",
      "Test set number of images overlap with Train set: 1114 Portion of examples: 0.1114\n"
     ]
    }
   ],
   "source": [
    "overlapCount(train_dataset,test_dataset)"
   ]
  },
  {
   "cell_type": "code",
   "execution_count": 95,
   "metadata": {
    "collapsed": false
   },
   "outputs": [
    {
     "name": "stdout",
     "output_type": "stream",
     "text": [
      "Train set number of examples overlap: 129 Portion of examples: 0.0129\n",
      "Test set number of examples overlap: 191 Portion of examples: 0.0191\n",
      "Test set number of images overlap with Train set: 60 Portion of examples: 0.006\n"
     ]
    }
   ],
   "source": [
    "overlapCount(valid_dataset,test_dataset)"
   ]
  },
  {
   "cell_type": "markdown",
   "metadata": {
    "colab_type": "text",
    "deletable": true,
    "editable": true,
    "id": "L8oww1s4JMQx"
   },
   "source": [
    "---\n",
    "Problem 6\n",
    "---------\n",
    "\n",
    "Let's get an idea of what an off-the-shelf classifier can give you on this data. It's always good to check that there is something to learn, and that it's a problem that is not so trivial that a canned solution solves it.\n",
    "\n",
    "Train a simple model on this data using 50, 100, 1000 and 5000 training samples. Hint: you can use the LogisticRegression model from sklearn.linear_model.\n",
    "\n",
    "Optional question: train an off-the-shelf model on all the data!\n",
    "\n",
    "---"
   ]
  },
  {
   "cell_type": "code",
   "execution_count": 109,
   "metadata": {
    "collapsed": false
   },
   "outputs": [
    {
     "name": "stdout",
     "output_type": "stream",
     "text": [
      "Fitting 2 folds for each of 2 candidates, totalling 4 fits\n"
     ]
    },
    {
     "name": "stderr",
     "output_type": "stream",
     "text": [
      "[Parallel(n_jobs=-1)]: Done   1 jobs       | elapsed:   46.5s\n",
      "[Parallel(n_jobs=-1)]: Done   3 out of   4 | elapsed:  1.1min remaining:   21.1s\n",
      "[Parallel(n_jobs=-1)]: Done   4 out of   4 | elapsed:  1.1min finished\n"
     ]
    },
    {
     "data": {
      "text/plain": [
       "GridSearchCV(cv=2, error_score='raise',\n",
       "       estimator=LogisticRegression(C=1.0, class_weight=None, dual=False, fit_intercept=True,\n",
       "          intercept_scaling=1, max_iter=100, multi_class='multinomial',\n",
       "          penalty='l2', random_state=1, solver='lbfgs', tol=0.0001,\n",
       "          verbose=0),\n",
       "       fit_params={}, iid=True, loss_func=None, n_jobs=-1,\n",
       "       param_grid={'C': array([  1.00000e-04,   1.00000e+02])},\n",
       "       pre_dispatch='2*n_jobs', refit=True, score_func=None, scoring=None,\n",
       "       verbose=1)"
      ]
     },
     "execution_count": 109,
     "metadata": {},
     "output_type": "execute_result"
    }
   ],
   "source": [
    "# preparing the datasets changing the shape\n",
    "train = np.array([np.ravel(image) for image in train_dataset])\n",
    "valid = np.array([np.ravel(image) for image in valid_dataset])\n",
    "test = np.array([np.ravel(image) for image in test_dataset])\n",
    "\n",
    "# import the classifer\n",
    "# did not use the validation set for parameter optimization however we know how to use it\n",
    "\n",
    "from sklearn import linear_model\n",
    "from sklearn.grid_search import GridSearchCV\n",
    "\n",
    "LR = linear_model.LogisticRegression(multi_class='multinomial', solver='lbfgs', random_state=1)\n",
    "parameters = {'C':np.logspace(-4,2,2)}\n",
    "\n",
    "clf = GridSearchCV(LR, parameters,n_jobs=-1,cv=2,verbose=1)\n",
    "clf.fit(train, train_labels)"
   ]
  },
  {
   "cell_type": "code",
   "execution_count": 111,
   "metadata": {
    "collapsed": false
   },
   "outputs": [
    {
     "name": "stdout",
     "output_type": "stream",
     "text": [
      "             precision    recall  f1-score   support\n",
      "\n",
      "          A       0.92      0.91      0.91      1000\n",
      "          B       0.92      0.90      0.91      1000\n",
      "          C       0.90      0.94      0.92      1000\n",
      "          D       0.93      0.91      0.92      1000\n",
      "          E       0.91      0.87      0.89      1000\n",
      "          F       0.88      0.93      0.91      1000\n",
      "          G       0.91      0.90      0.90      1000\n",
      "          H       0.92      0.89      0.91      1000\n",
      "          I       0.86      0.85      0.86      1000\n",
      "          J       0.87      0.93      0.90      1000\n",
      "\n",
      "avg / total       0.90      0.90      0.90     10000\n",
      "\n"
     ]
    }
   ],
   "source": [
    "# prediction\n",
    "y_pred = clf.predict(test)\n",
    "\n",
    "# classification report\n",
    "from sklearn.metrics import classification_report\n",
    "target_names = classes#np.unique(train_labels)\n",
    "\n",
    "print(classification_report(test_labels, y_pred, target_names=target_names))"
   ]
  },
  {
   "cell_type": "code",
   "execution_count": null,
   "metadata": {
    "collapsed": true
   },
   "outputs": [],
   "source": [
    "# Score\n",
    "from sklearn import metrics\n",
    "metrics.accuracy_score(y_test, y_pred)"
   ]
  },
  {
   "cell_type": "code",
   "execution_count": null,
   "metadata": {
    "collapsed": true
   },
   "outputs": [],
   "source": []
  }
 ],
 "metadata": {
  "colab": {
   "default_view": {},
   "name": "1_notmnist.ipynb",
   "provenance": [],
   "version": "0.3.2",
   "views": {}
  },
  "kernelspec": {
   "display_name": "Python 2",
   "language": "python",
   "name": "python2"
  },
  "language_info": {
   "codemirror_mode": {
    "name": "ipython",
    "version": 2
   },
   "file_extension": ".py",
   "mimetype": "text/x-python",
   "name": "python",
   "nbconvert_exporter": "python",
   "pygments_lexer": "ipython2",
   "version": "2.7.13"
  }
 },
 "nbformat": 4,
 "nbformat_minor": 0
}
